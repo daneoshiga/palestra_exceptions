{
 "cells": [
  {
   "cell_type": "markdown",
   "metadata": {
    "slideshow": {
     "slide_type": "slide"
    }
   },
   "source": [
    "# Exceptions\n",
    "\n",
    "\n",
    "## E porque não são só para erros"
   ]
  },
  {
   "cell_type": "code",
   "execution_count": 1,
   "metadata": {
    "slideshow": {
     "slide_type": "skip"
    }
   },
   "outputs": [],
   "source": [
    "import logging, importlib, sys\n",
    "from requests.exceptions import Timeout, RequestException\n",
    "importlib.reload(logging)\n",
    "logging.basicConfig(format='%(message)s')\n",
    "logger = logging.getLogger()\n",
    "logger.setLevel(logging.INFO)\n",
    "\n",
    "def use_requests():\n",
    "    raise Timeout"
   ]
  },
  {
   "cell_type": "code",
   "execution_count": 2,
   "metadata": {
    "slideshow": {
     "slide_type": "slide"
    }
   },
   "outputs": [
    {
     "ename": "SyntaxError",
     "evalue": "invalid syntax (<ipython-input-2-82e397173a8e>, line 1)",
     "output_type": "error",
     "traceback": [
      "\u001b[0;36m  File \u001b[0;32m\"<ipython-input-2-82e397173a8e>\"\u001b[0;36m, line \u001b[0;32m1\u001b[0m\n\u001b[0;31m    def foo(){\u001b[0m\n\u001b[0m             ^\u001b[0m\n\u001b[0;31mSyntaxError\u001b[0m\u001b[0;31m:\u001b[0m invalid syntax\n"
     ]
    }
   ],
   "source": [
    "def foo(){\n",
    "    return 'bar'\n",
    "}"
   ]
  },
  {
   "cell_type": "markdown",
   "metadata": {
    "slideshow": {
     "slide_type": "fragment"
    }
   },
   "source": [
    "## Ok, SyntaxError é um erro"
   ]
  },
  {
   "cell_type": "markdown",
   "metadata": {
    "slideshow": {
     "slide_type": "slide"
    }
   },
   "source": [
    "# São um sinal de que um comportamento não esperado ocorreu"
   ]
  },
  {
   "cell_type": "markdown",
   "metadata": {
    "slideshow": {
     "slide_type": "notes"
    }
   },
   "source": [
    "Vamos usar um exemplo de dados simples para demonstrar os usos de exceptions no fluxo de dados"
   ]
  },
  {
   "cell_type": "code",
   "execution_count": 3,
   "metadata": {
    "slideshow": {
     "slide_type": "slide"
    }
   },
   "outputs": [],
   "source": [
    "# Um exemplo de estrutura de dados, uma lista com 2 elementos chave-valor\n",
    "\n",
    "pokemons = [\n",
    "    {'nome': 'Bulbassauro'},\n",
    "    {'nome': 'Ivyssauro'},\n",
    "]"
   ]
  },
  {
   "cell_type": "code",
   "execution_count": 4,
   "metadata": {
    "slideshow": {
     "slide_type": "fragment"
    }
   },
   "outputs": [],
   "source": [
    "def nome_segundo_pokemon(pokemons):\n",
    "    if len(pokemons) >= 2:\n",
    "        \n",
    "        if 'nome' in pokemons[1]:\n",
    "            return pokemons[1]['nome']\n",
    "        else:\n",
    "            logger.info(\"Não encontro o nome dos pokemons!\")\n",
    "    else:\n",
    "        logger.info(\"Não há pokemons suficientes para procurar!\")"
   ]
  },
  {
   "cell_type": "markdown",
   "metadata": {
    "slideshow": {
     "slide_type": "fragment"
    }
   },
   "source": [
    "Esse código funciona?"
   ]
  },
  {
   "cell_type": "markdown",
   "metadata": {
    "slideshow": {
     "slide_type": "fragment"
    }
   },
   "source": [
    "É longo? é muito díficil de entender?"
   ]
  },
  {
   "cell_type": "markdown",
   "metadata": {
    "slideshow": {
     "slide_type": "fragment"
    }
   },
   "source": [
    "Segue a PEP8?"
   ]
  },
  {
   "cell_type": "code",
   "execution_count": 5,
   "metadata": {
    "slideshow": {
     "slide_type": "slide"
    }
   },
   "outputs": [
    {
     "name": "stderr",
     "output_type": "stream",
     "text": [
      "Não há pokemons suficientes para procurar!\n"
     ]
    }
   ],
   "source": [
    "pokedex_vazia = [{}]\n",
    "nome_segundo_pokemon(pokedex_vazia)"
   ]
  },
  {
   "cell_type": "code",
   "execution_count": 6,
   "metadata": {
    "slideshow": {
     "slide_type": "fragment"
    }
   },
   "outputs": [
    {
     "name": "stderr",
     "output_type": "stream",
     "text": [
      "Não encontro o nome dos pokemons!\n"
     ]
    }
   ],
   "source": [
    "dados_errados = [\n",
    "    {'pokemon': 'Bulbassauro'},\n",
    "    {'pokemon': 'Ivyssauro'},\n",
    "]\n",
    "nome_segundo_pokemon(dados_errados)"
   ]
  },
  {
   "cell_type": "code",
   "execution_count": 7,
   "metadata": {
    "slideshow": {
     "slide_type": "fragment"
    }
   },
   "outputs": [
    {
     "data": {
      "text/plain": [
       "'Ivyssauro'"
      ]
     },
     "execution_count": 7,
     "metadata": {},
     "output_type": "execute_result"
    }
   ],
   "source": [
    "nome_segundo_pokemon(pokemons)"
   ]
  },
  {
   "cell_type": "markdown",
   "metadata": {
    "slideshow": {
     "slide_type": "slide"
    }
   },
   "source": [
    "#commit, push... profit?"
   ]
  },
  {
   "cell_type": "markdown",
   "metadata": {
    "slideshow": {
     "slide_type": "slide"
    }
   },
   "source": [
    "# EAFP\n",
    "## It is easier to Ask for Forgiveness than Permission\n",
    "\n",
    "https://docs.python.org/3/glossary.html\n",
    "\n",
    "![Grace Hopper](grace_hopper.smaller.jpg)\n"
   ]
  },
  {
   "cell_type": "code",
   "execution_count": 8,
   "metadata": {
    "slideshow": {
     "slide_type": "slide"
    }
   },
   "outputs": [],
   "source": [
    "def nome_segundo_pokemon(pokemons):\n",
    "    # a entrada tem o tamanho que eu espero?\n",
    "    if len(pokemons) >= 2:\n",
    "        \n",
    "        # tem a chave que eu estou procurando?\n",
    "        if 'nome' in pokemons[1]:\n",
    "            # ufa, então posso acessar o que estou procurando\n",
    "            return pokemons[1]['nome']\n",
    "        \n",
    "        #não tem a chave? eita.\n",
    "        else:\n",
    "            logger.info(\"Não encontro o nome dos pokemons!\")\n",
    "    \n",
    "    #não tem o tamanho correto? vish.\n",
    "    else:\n",
    "        logger.info(\"Não há pokemons suficientes para procurar!\")"
   ]
  },
  {
   "cell_type": "markdown",
   "metadata": {
    "slideshow": {
     "slide_type": "slide"
    }
   },
   "source": [
    "# \"Deve haver um modo melhor!\"\n",
    "-- Raymond Hettinger"
   ]
  },
  {
   "cell_type": "code",
   "execution_count": 9,
   "metadata": {
    "slideshow": {
     "slide_type": "slide"
    }
   },
   "outputs": [],
   "source": [
    "def nome_segundo_pokemon(pokemons):\n",
    "    try:\n",
    "        return pokemons[1]['nome']\n",
    "\n",
    "    except IndexError:\n",
    "        logger.info('Não há pokemons suficientes para procurar!')\n",
    "\n",
    "    except KeyError:\n",
    "        logger.info('Não encontro o nome dos pokemons!')"
   ]
  },
  {
   "cell_type": "markdown",
   "metadata": {
    "slideshow": {
     "slide_type": "fragment"
    }
   },
   "source": [
    "- O objetivo da função já está na sua segunda linha\n",
    "- Não existem vários níveis de identação\n",
    "- Caso não exista o segunndo elemento da lista, ocorre um IndexError\n",
    "- Caso não exista a chave \"nome\", ocorre um KeyError"
   ]
  },
  {
   "cell_type": "code",
   "execution_count": 10,
   "metadata": {
    "slideshow": {
     "slide_type": "slide"
    }
   },
   "outputs": [
    {
     "name": "stderr",
     "output_type": "stream",
     "text": [
      "Não há pokemons suficientes para procurar!\n"
     ]
    }
   ],
   "source": [
    "pokedex_vazia = [{}]\n",
    "nome_segundo_pokemon(pokedex_vazia)"
   ]
  },
  {
   "cell_type": "code",
   "execution_count": 11,
   "metadata": {
    "slideshow": {
     "slide_type": "fragment"
    }
   },
   "outputs": [
    {
     "name": "stderr",
     "output_type": "stream",
     "text": [
      "Não encontro o nome dos pokemons!\n"
     ]
    }
   ],
   "source": [
    "ainda_vazia = [{}, {}]\n",
    "nome_segundo_pokemon(ainda_vazia)"
   ]
  },
  {
   "cell_type": "code",
   "execution_count": 12,
   "metadata": {
    "slideshow": {
     "slide_type": "fragment"
    }
   },
   "outputs": [
    {
     "data": {
      "text/plain": [
       "'Ivyssauro'"
      ]
     },
     "execution_count": 12,
     "metadata": {},
     "output_type": "execute_result"
    }
   ],
   "source": [
    "nome_segundo_pokemon(pokemons)"
   ]
  },
  {
   "cell_type": "markdown",
   "metadata": {
    "slideshow": {
     "slide_type": "slide"
    }
   },
   "source": [
    "# E se eu precisar fazer algo a mais?"
   ]
  },
  {
   "cell_type": "code",
   "execution_count": 13,
   "metadata": {
    "slideshow": {
     "slide_type": "fragment"
    }
   },
   "outputs": [],
   "source": [
    "def nome_segundo_pokemon(pokemons):\n",
    "    try:\n",
    "        logger.info(pokemons[1]['nome'])\n",
    "        logger.info('Vá capturar mais!')\n",
    "\n",
    "    except IndexError:\n",
    "        logger.info('Não há pokemons suficientes para procurar!')\n",
    "        logger.info('Vá capturar mais!')  # de novo?\n",
    "\n",
    "    except KeyError:\n",
    "        logger.info('Não encontro o nome dos pokemons!')\n",
    "        logger.info('Vá capturar mais!')  # outra vez?"
   ]
  },
  {
   "cell_type": "markdown",
   "metadata": {
    "slideshow": {
     "slide_type": "slide"
    }
   },
   "source": [
    "# Finally!"
   ]
  },
  {
   "cell_type": "code",
   "execution_count": 14,
   "metadata": {
    "slideshow": {
     "slide_type": "fragment"
    }
   },
   "outputs": [],
   "source": [
    "def nome_segundo_pokemon(pokemons):\n",
    "    try:\n",
    "        logger.info(pokemons[1]['nome'])\n",
    "\n",
    "    except IndexError:\n",
    "        logger.info('Não há pokemons suficientes para procurar!')\n",
    "\n",
    "    except KeyError:\n",
    "        logger.info('Não encontro o nome dos pokemons!')\n",
    "        \n",
    "    finally:\n",
    "        logger.info('Vá capturar mais!')  # só uma vez \\o/"
   ]
  },
  {
   "cell_type": "code",
   "execution_count": 15,
   "metadata": {
    "slideshow": {
     "slide_type": "fragment"
    }
   },
   "outputs": [
    {
     "name": "stderr",
     "output_type": "stream",
     "text": [
      "Ivyssauro\n",
      "Vá capturar mais!\n"
     ]
    }
   ],
   "source": [
    "nome_segundo_pokemon(pokemons)"
   ]
  },
  {
   "cell_type": "markdown",
   "metadata": {
    "slideshow": {
     "slide_type": "slide"
    }
   },
   "source": [
    "## O bloco finally sempre é executado mesmo que qualquer exceção ocorra"
   ]
  },
  {
   "cell_type": "code",
   "execution_count": 16,
   "metadata": {
    "slideshow": {
     "slide_type": "fragment"
    }
   },
   "outputs": [],
   "source": [
    "def log_my_work():\n",
    "    timer.start()\n",
    "    \n",
    "    try:\n",
    "        lots_of_work()\n",
    "        \n",
    "    except TooMuchWork:\n",
    "        logger.info('ops, something went wrong')\n",
    "        \n",
    "    finally:\n",
    "        # mesmo que qualquer outra exception ocorra, será executado\n",
    "        timer.stop()"
   ]
  },
  {
   "cell_type": "markdown",
   "metadata": {
    "slideshow": {
     "slide_type": "slide"
    }
   },
   "source": [
    "# Não confundir com o bloco \"else\"\n",
    "\n",
    "O bloco else é executado após o try, caso não ocorra uma exception."
   ]
  },
  {
   "cell_type": "code",
   "execution_count": 17,
   "metadata": {
    "slideshow": {
     "slide_type": "slide"
    }
   },
   "outputs": [],
   "source": [
    "def nome_segundo_pokemon(pokemons):\n",
    "    try:\n",
    "        return pokemons[1]['nome']\n",
    "\n",
    "    except IndexError:\n",
    "        logger.info('Não há pokemons suficientes para procurar!')\n",
    "\n",
    "    except KeyError:\n",
    "        logger.info('Não encontro o nome dos pokemons!')\n",
    "\n",
    "    else:\n",
    "          # não vai executar se não tiver o Ivyssauro\n",
    "        logger.info('Vá capturar mais!')"
   ]
  },
  {
   "cell_type": "code",
   "execution_count": 18,
   "metadata": {
    "slideshow": {
     "slide_type": "fragment"
    }
   },
   "outputs": [
    {
     "name": "stderr",
     "output_type": "stream",
     "text": [
      "Não há pokemons suficientes para procurar!\n"
     ]
    }
   ],
   "source": [
    "pokedex_vazia = [{}]\n",
    "nome_segundo_pokemon(pokedex_vazia)"
   ]
  },
  {
   "cell_type": "code",
   "execution_count": 19,
   "metadata": {
    "slideshow": {
     "slide_type": "slide"
    }
   },
   "outputs": [],
   "source": [
    "def nome_segundo_pokemon(pokemons):\n",
    "    try:\n",
    "        logger.info(pokemons[1]['nome'])\n",
    "\n",
    "    except IndexError:\n",
    "        logger.info('Não há pokemons suficientes para procurar!')\n",
    "\n",
    "    except KeyError:\n",
    "        logger.info('Não encontro o nome dos pokemons!')\n",
    "    else:\n",
    "        logger.info('E tem também o %s!' % pokemons[0]['nome'])"
   ]
  },
  {
   "cell_type": "code",
   "execution_count": 20,
   "metadata": {
    "slideshow": {
     "slide_type": "fragment"
    }
   },
   "outputs": [
    {
     "name": "stderr",
     "output_type": "stream",
     "text": [
      "Ivyssauro\n",
      "E tem também o Bulbassauro!\n"
     ]
    }
   ],
   "source": [
    "nome_segundo_pokemon(pokemons)"
   ]
  },
  {
   "cell_type": "code",
   "execution_count": 21,
   "metadata": {
    "slideshow": {
     "slide_type": "slide"
    }
   },
   "outputs": [],
   "source": [
    "def nome_segundo_pokemon(pokemons):\n",
    "    try:\n",
    "        logger.info(pokemons[1]['nome'])\n",
    "\n",
    "    except IndexError:\n",
    "        logger.info('Não há pokemons suficientes para procurar!')\n",
    "\n",
    "    except KeyError:\n",
    "        logger.info('Não encontro o nome dos pokemons!')\n",
    "\n",
    "    else:\n",
    "        # Só quero que execute se o try tiver sucesso\n",
    "        logger.info('E tem também o %s!' % pokemons[2]['nome'])"
   ]
  },
  {
   "cell_type": "code",
   "execution_count": 22,
   "metadata": {
    "slideshow": {
     "slide_type": "fragment"
    }
   },
   "outputs": [
    {
     "name": "stderr",
     "output_type": "stream",
     "text": [
      "Ivyssauro\n"
     ]
    },
    {
     "ename": "IndexError",
     "evalue": "list index out of range",
     "output_type": "error",
     "traceback": [
      "\u001b[0;31m---------------------------------------------------------------------------\u001b[0m",
      "\u001b[0;31mIndexError\u001b[0m                                Traceback (most recent call last)",
      "\u001b[0;32m<ipython-input-22-c3123dd79692>\u001b[0m in \u001b[0;36m<module>\u001b[0;34m()\u001b[0m\n\u001b[0;32m----> 1\u001b[0;31m \u001b[0mnome_segundo_pokemon\u001b[0m\u001b[0;34m(\u001b[0m\u001b[0mpokemons\u001b[0m\u001b[0;34m)\u001b[0m\u001b[0;34m\u001b[0m\u001b[0m\n\u001b[0m",
      "\u001b[0;32m<ipython-input-21-e93e902b65db>\u001b[0m in \u001b[0;36mnome_segundo_pokemon\u001b[0;34m(pokemons)\u001b[0m\n\u001b[1;32m     11\u001b[0m     \u001b[0;32melse\u001b[0m\u001b[0;34m:\u001b[0m\u001b[0;34m\u001b[0m\u001b[0m\n\u001b[1;32m     12\u001b[0m         \u001b[0;31m# Só quero que execute se o try tiver sucesso\u001b[0m\u001b[0;34m\u001b[0m\u001b[0;34m\u001b[0m\u001b[0m\n\u001b[0;32m---> 13\u001b[0;31m         \u001b[0mlogger\u001b[0m\u001b[0;34m.\u001b[0m\u001b[0minfo\u001b[0m\u001b[0;34m(\u001b[0m\u001b[0;34m'E tem também o %s!'\u001b[0m \u001b[0;34m%\u001b[0m \u001b[0mpokemons\u001b[0m\u001b[0;34m[\u001b[0m\u001b[0;36m2\u001b[0m\u001b[0;34m]\u001b[0m\u001b[0;34m[\u001b[0m\u001b[0;34m'nome'\u001b[0m\u001b[0;34m]\u001b[0m\u001b[0;34m)\u001b[0m\u001b[0;34m\u001b[0m\u001b[0m\n\u001b[0m",
      "\u001b[0;31mIndexError\u001b[0m: list index out of range"
     ]
    }
   ],
   "source": [
    "nome_segundo_pokemon(pokemons)"
   ]
  },
  {
   "cell_type": "markdown",
   "metadata": {
    "slideshow": {
     "slide_type": "slide"
    }
   },
   "source": [
    "###Use o try..else para casos onde gostaria de adicionar no bloco \"try\" no fim do bloco, mas que não quer que seja tratado pelos blocos except."
   ]
  },
  {
   "cell_type": "markdown",
   "metadata": {
    "slideshow": {
     "slide_type": "slide"
    }
   },
   "source": [
    "# Tracebacks"
   ]
  },
  {
   "cell_type": "markdown",
   "metadata": {
    "slideshow": {
     "slide_type": "fragment"
    }
   },
   "source": [
    "- Trazem o \"stack trace\" da execução que gerou aquela exceção\n",
    "\n",
    "- \"Que ponto do código gerou aquela exceção, e quais chamadas levaram até aquele ponto\""
   ]
  },
  {
   "cell_type": "code",
   "execution_count": 23,
   "metadata": {
    "slideshow": {
     "slide_type": "slide"
    }
   },
   "outputs": [
    {
     "ename": "NameError",
     "evalue": "name 'error' is not defined",
     "output_type": "error",
     "traceback": [
      "\u001b[0;31m---------------------------------------------------------------------------\u001b[0m",
      "\u001b[0;31mNameError\u001b[0m                                 Traceback (most recent call last)",
      "\u001b[0;32m<ipython-input-23-3d1e3144282a>\u001b[0m in \u001b[0;36m<module>\u001b[0;34m()\u001b[0m\n\u001b[1;32m      5\u001b[0m     \u001b[0merror\u001b[0m\u001b[0;34m(\u001b[0m\u001b[0mz\u001b[0m\u001b[0;34m)\u001b[0m\u001b[0;34m\u001b[0m\u001b[0m\n\u001b[1;32m      6\u001b[0m \u001b[0;34m\u001b[0m\u001b[0m\n\u001b[0;32m----> 7\u001b[0;31m \u001b[0ma\u001b[0m\u001b[0;34m(\u001b[0m\u001b[0;34m)\u001b[0m\u001b[0;34m\u001b[0m\u001b[0m\n\u001b[0m",
      "\u001b[0;32m<ipython-input-23-3d1e3144282a>\u001b[0m in \u001b[0;36ma\u001b[0;34m()\u001b[0m\n\u001b[1;32m      1\u001b[0m \u001b[0;32mdef\u001b[0m \u001b[0ma\u001b[0m\u001b[0;34m(\u001b[0m\u001b[0;34m)\u001b[0m\u001b[0;34m:\u001b[0m\u001b[0;34m\u001b[0m\u001b[0m\n\u001b[0;32m----> 2\u001b[0;31m     \u001b[0;32mreturn\u001b[0m \u001b[0mb\u001b[0m\u001b[0;34m(\u001b[0m\u001b[0;36m0\u001b[0m\u001b[0;34m)\u001b[0m\u001b[0;34m\u001b[0m\u001b[0m\n\u001b[0m\u001b[1;32m      3\u001b[0m \u001b[0;34m\u001b[0m\u001b[0m\n\u001b[1;32m      4\u001b[0m \u001b[0;32mdef\u001b[0m \u001b[0mb\u001b[0m\u001b[0;34m(\u001b[0m\u001b[0mz\u001b[0m\u001b[0;34m)\u001b[0m\u001b[0;34m:\u001b[0m\u001b[0;34m\u001b[0m\u001b[0m\n\u001b[1;32m      5\u001b[0m     \u001b[0merror\u001b[0m\u001b[0;34m(\u001b[0m\u001b[0mz\u001b[0m\u001b[0;34m)\u001b[0m\u001b[0;34m\u001b[0m\u001b[0m\n",
      "\u001b[0;32m<ipython-input-23-3d1e3144282a>\u001b[0m in \u001b[0;36mb\u001b[0;34m(z)\u001b[0m\n\u001b[1;32m      3\u001b[0m \u001b[0;34m\u001b[0m\u001b[0m\n\u001b[1;32m      4\u001b[0m \u001b[0;32mdef\u001b[0m \u001b[0mb\u001b[0m\u001b[0;34m(\u001b[0m\u001b[0mz\u001b[0m\u001b[0;34m)\u001b[0m\u001b[0;34m:\u001b[0m\u001b[0;34m\u001b[0m\u001b[0m\n\u001b[0;32m----> 5\u001b[0;31m     \u001b[0merror\u001b[0m\u001b[0;34m(\u001b[0m\u001b[0mz\u001b[0m\u001b[0;34m)\u001b[0m\u001b[0;34m\u001b[0m\u001b[0m\n\u001b[0m\u001b[1;32m      6\u001b[0m \u001b[0;34m\u001b[0m\u001b[0m\n\u001b[1;32m      7\u001b[0m \u001b[0ma\u001b[0m\u001b[0;34m(\u001b[0m\u001b[0;34m)\u001b[0m\u001b[0;34m\u001b[0m\u001b[0m\n",
      "\u001b[0;31mNameError\u001b[0m: name 'error' is not defined"
     ]
    }
   ],
   "source": [
    "def a():\n",
    "    return b(0)\n",
    "\n",
    "def b(z):\n",
    "    error(z)\n",
    "\n",
    "a()"
   ]
  },
  {
   "cell_type": "code",
   "execution_count": 24,
   "metadata": {
    "slideshow": {
     "slide_type": "slide"
    }
   },
   "outputs": [
    {
     "name": "stderr",
     "output_type": "stream",
     "text": [
      "(<class 'NameError'>, NameError(\"name 'error' is not defined\",), <traceback object at 0x7eff642bbb88>)\n"
     ]
    }
   ],
   "source": [
    "try:\n",
    "    a()\n",
    "except:\n",
    "    exception_info = sys.exc_info()\n",
    "    logger.info(exception_info)"
   ]
  },
  {
   "cell_type": "code",
   "execution_count": 25,
   "metadata": {
    "slideshow": {
     "slide_type": "slide"
    }
   },
   "outputs": [
    {
     "name": "stderr",
     "output_type": "stream",
     "text": [
      "logando minha exception\n",
      "Traceback (most recent call last):\n",
      "  File \"<ipython-input-25-d54910996e5f>\", line 2, in <module>\n",
      "    a()\n",
      "  File \"<ipython-input-23-3d1e3144282a>\", line 2, in a\n",
      "    return b(0)\n",
      "  File \"<ipython-input-23-3d1e3144282a>\", line 5, in b\n",
      "    error(z)\n",
      "NameError: name 'error' is not defined\n"
     ]
    }
   ],
   "source": [
    "try:\n",
    "    a()\n",
    "except:\n",
    "    exception_info = sys.exc_info()\n",
    "    logger.info('logando minha exception', exc_info=True)"
   ]
  },
  {
   "cell_type": "code",
   "execution_count": 26,
   "metadata": {
    "slideshow": {
     "slide_type": "fragment"
    }
   },
   "outputs": [
    {
     "name": "stderr",
     "output_type": "stream",
     "text": [
      "logando minha exception\n",
      "Traceback (most recent call last):\n",
      "  File \"<ipython-input-26-a636fe381183>\", line 2, in <module>\n",
      "    a()\n",
      "  File \"<ipython-input-23-3d1e3144282a>\", line 2, in a\n",
      "    return b(0)\n",
      "  File \"<ipython-input-23-3d1e3144282a>\", line 5, in b\n",
      "    error(z)\n",
      "NameError: name 'error' is not defined\n"
     ]
    }
   ],
   "source": [
    "try:\n",
    "    a()\n",
    "except:\n",
    "    exception_info = sys.exc_info()\n",
    "    logger.exception('logando minha exception')"
   ]
  },
  {
   "cell_type": "markdown",
   "metadata": {
    "slideshow": {
     "slide_type": "slide"
    }
   },
   "source": [
    "![sentry](sentry.png)"
   ]
  },
  {
   "cell_type": "markdown",
   "metadata": {
    "slideshow": {
     "slide_type": "slide"
    }
   },
   "source": [
    "# Como modelar uma estrutura de Exceptions útil?"
   ]
  },
  {
   "cell_type": "markdown",
   "metadata": {
    "slideshow": {
     "slide_type": "slide"
    }
   },
   "source": [
    "## Exceptions do Python\n",
    "\n",
    "```\n",
    "BaseException\n",
    " +-- SystemExit\n",
    " +-- KeyboardInterrupt\n",
    " +-- GeneratorExit\n",
    " +-- Exception\n",
    "      +-- StopIteration\n",
    "      +-- StopAsyncIteration\n",
    "      +-- ArithmeticError\n",
    "      |    +-- FloatingPointError\n",
    "      |    +-- OverflowError\n",
    "      |    +-- ZeroDivisionError\n",
    "      +-- AssertionError\n",
    "      +-- AttributeError\n",
    "      +-- BufferError\n",
    "      +-- EOFError\n",
    "      +-- ImportError\n",
    "           +-- ModuleNotFoundError\n",
    "      +-- LookupError\n",
    "      |    +-- IndexError\n",
    "      |    +-- KeyError\n",
    "      +-- MemoryError\n",
    "      +-- NameError\n",
    "      |    +-- UnboundLocalError\n",
    "      +-- OSError\n",
    "      |    +-- BlockingIOError\n",
    "      |    +-- ChildProcessError\n",
    "      |    +-- ConnectionError\n",
    "      |    |    +-- BrokenPipeError\n",
    "      |    |    +-- ConnectionAbortedError\n",
    "      |    |    +-- ConnectionRefusedError\n",
    "      |    |    +-- ConnectionResetError\n",
    "      |    +-- FileExistsError\n",
    "      |    +-- FileNotFoundError\n",
    "      |    +-- InterruptedError\n",
    "      |    +-- IsADirectoryError\n",
    "      |    +-- NotADirectoryError\n",
    "      |    +-- PermissionError\n",
    "      |    +-- ProcessLookupError\n",
    "      |    +-- TimeoutError\n",
    "      +-- ReferenceError\n",
    "      +-- RuntimeError\n",
    "      |    +-- NotImplementedError\n",
    "      |    +-- RecursionError\n",
    "      +-- SyntaxError\n",
    "      |    +-- IndentationError\n",
    "      |         +-- TabError\n",
    "      +-- SystemError\n",
    "      +-- TypeError\n",
    "      +-- ValueError\n",
    "      |    +-- UnicodeError\n",
    "      |         +-- UnicodeDecodeError\n",
    "      |         +-- UnicodeEncodeError\n",
    "      |         +-- UnicodeTranslateError\n",
    "      +-- Warning\n",
    "           +-- DeprecationWarning\n",
    "           +-- PendingDeprecationWarning\n",
    "           +-- RuntimeWarning\n",
    "           +-- SyntaxWarning\n",
    "           +-- UserWarning\n",
    "           +-- FutureWarning\n",
    "           +-- ImportWarning\n",
    "           +-- UnicodeWarning\n",
    "           +-- BytesWarning\n",
    "           +-- ResourceWarning\n",
    "```            "
   ]
  },
  {
   "cell_type": "markdown",
   "metadata": {
    "slideshow": {
     "slide_type": "slide"
    }
   },
   "source": [
    "## Exceptions da biblioteca requests\n",
    "\n",
    "```\n",
    "RequestException  \n",
    "+-- ConnectionError  \n",
    "|   +-- ProxyError  \n",
    "|   +-- SSLError  \n",
    "| \n",
    "+-- Timeout  \n",
    "    +-- ConnectTimeout(ConnectionError, Timeout):  \n",
    "    +-- ReadTimeout(Timeout):  \n",
    "        \n",
    "+-- RequestsWarning  \n",
    "    +-- FileModeWarning(RequestsWarning, DeprecationWarning):  \n",
    "    +-- RequestsDependencyWarning  \n",
    " ```"
   ]
  },
  {
   "cell_type": "markdown",
   "metadata": {
    "slideshow": {
     "slide_type": "slide"
    }
   },
   "source": [
    "## Capturar uma exception mais genérica pega todas as específicas"
   ]
  },
  {
   "cell_type": "code",
   "execution_count": 27,
   "metadata": {
    "slideshow": {
     "slide_type": "fragment"
    }
   },
   "outputs": [
    {
     "name": "stderr",
     "output_type": "stream",
     "text": [
      "catches ConnectionTimeout and ReadTimeout\n"
     ]
    }
   ],
   "source": [
    "from requests import Timeout\n",
    "\n",
    "try:\n",
    "    use_requests()\n",
    "except Timeout:\n",
    "    logger.info(\"catches ConnectionTimeout and ReadTimeout\")"
   ]
  },
  {
   "cell_type": "code",
   "execution_count": 28,
   "metadata": {
    "slideshow": {
     "slide_type": "slide"
    }
   },
   "outputs": [],
   "source": [
    "# pokedex/exceptions.py\n",
    "class PokedexException(Exception):\n",
    "    pass\n",
    "\n",
    "class NotEnoughPokemonError(PokedexException):\n",
    "    \"\"\"Não há pokemons suficientes para procurar!\"\"\"\n",
    "\n",
    "class CantFindPokemonError(PokedexException):\n",
    "    \"\"\"Não encontro o nome dos pokemons!\"\"\"\n",
    "\n",
    "# pokedex/functions.py\n",
    "\n",
    "def nome_segundo_pokemon(pokemons):\n",
    "    try:\n",
    "        return pokemons[1]['nome']\n",
    "\n",
    "    except IndexError:\n",
    "        raise NotEnoughPokemonError\n",
    "\n",
    "    except KeyError:\n",
    "        raise CantFindPokemonError"
   ]
  },
  {
   "cell_type": "code",
   "execution_count": 29,
   "metadata": {
    "slideshow": {
     "slide_type": "slide"
    }
   },
   "outputs": [
    {
     "ename": "NotEnoughPokemonError",
     "evalue": "",
     "output_type": "error",
     "traceback": [
      "\u001b[0;31m---------------------------------------------------------------------------\u001b[0m",
      "\u001b[0;31mIndexError\u001b[0m                                Traceback (most recent call last)",
      "\u001b[0;32m<ipython-input-28-d1ab70dda423>\u001b[0m in \u001b[0;36mnome_segundo_pokemon\u001b[0;34m(pokemons)\u001b[0m\n\u001b[1;32m     14\u001b[0m     \u001b[0;32mtry\u001b[0m\u001b[0;34m:\u001b[0m\u001b[0;34m\u001b[0m\u001b[0m\n\u001b[0;32m---> 15\u001b[0;31m         \u001b[0;32mreturn\u001b[0m \u001b[0mpokemons\u001b[0m\u001b[0;34m[\u001b[0m\u001b[0;36m1\u001b[0m\u001b[0;34m]\u001b[0m\u001b[0;34m[\u001b[0m\u001b[0;34m'nome'\u001b[0m\u001b[0;34m]\u001b[0m\u001b[0;34m\u001b[0m\u001b[0m\n\u001b[0m\u001b[1;32m     16\u001b[0m \u001b[0;34m\u001b[0m\u001b[0m\n",
      "\u001b[0;31mIndexError\u001b[0m: list index out of range",
      "\nDuring handling of the above exception, another exception occurred:\n",
      "\u001b[0;31mNotEnoughPokemonError\u001b[0m                     Traceback (most recent call last)",
      "\u001b[0;32m<ipython-input-29-70c6b1a2745f>\u001b[0m in \u001b[0;36m<module>\u001b[0;34m()\u001b[0m\n\u001b[1;32m      1\u001b[0m \u001b[0mpokedex_vazia\u001b[0m \u001b[0;34m=\u001b[0m \u001b[0;34m[\u001b[0m\u001b[0;34m{\u001b[0m\u001b[0;34m}\u001b[0m\u001b[0;34m]\u001b[0m\u001b[0;34m\u001b[0m\u001b[0m\n\u001b[0;32m----> 2\u001b[0;31m \u001b[0mnome_segundo_pokemon\u001b[0m\u001b[0;34m(\u001b[0m\u001b[0mpokedex_vazia\u001b[0m\u001b[0;34m)\u001b[0m\u001b[0;34m\u001b[0m\u001b[0m\n\u001b[0m",
      "\u001b[0;32m<ipython-input-28-d1ab70dda423>\u001b[0m in \u001b[0;36mnome_segundo_pokemon\u001b[0;34m(pokemons)\u001b[0m\n\u001b[1;32m     16\u001b[0m \u001b[0;34m\u001b[0m\u001b[0m\n\u001b[1;32m     17\u001b[0m     \u001b[0;32mexcept\u001b[0m \u001b[0mIndexError\u001b[0m\u001b[0;34m:\u001b[0m\u001b[0;34m\u001b[0m\u001b[0m\n\u001b[0;32m---> 18\u001b[0;31m         \u001b[0;32mraise\u001b[0m \u001b[0mNotEnoughPokemonError\u001b[0m\u001b[0;34m\u001b[0m\u001b[0m\n\u001b[0m\u001b[1;32m     19\u001b[0m \u001b[0;34m\u001b[0m\u001b[0m\n\u001b[1;32m     20\u001b[0m     \u001b[0;32mexcept\u001b[0m \u001b[0mKeyError\u001b[0m\u001b[0;34m:\u001b[0m\u001b[0;34m\u001b[0m\u001b[0m\n",
      "\u001b[0;31mNotEnoughPokemonError\u001b[0m: "
     ]
    }
   ],
   "source": [
    "pokedex_vazia = [{}]\n",
    "nome_segundo_pokemon(pokedex_vazia)"
   ]
  },
  {
   "cell_type": "code",
   "execution_count": 30,
   "metadata": {
    "slideshow": {
     "slide_type": "slide"
    }
   },
   "outputs": [
    {
     "name": "stderr",
     "output_type": "stream",
     "text": [
      "Something went wrong\n"
     ]
    }
   ],
   "source": [
    "pokedex_vazia = [{}]\n",
    "try:\n",
    "    nome_segundo_pokemon(pokedex_vazia)\n",
    "except PokedexException as exc:\n",
    "    logger.info('Something went wrong')"
   ]
  },
  {
   "cell_type": "markdown",
   "metadata": {
    "slideshow": {
     "slide_type": "slide"
    }
   },
   "source": [
    "##E se nós não nos importarmos com os erros que ocorrerem?"
   ]
  },
  {
   "cell_type": "code",
   "execution_count": 31,
   "metadata": {
    "slideshow": {
     "slide_type": "fragment"
    }
   },
   "outputs": [
    {
     "name": "stderr",
     "output_type": "stream",
     "text": [
      "continue...\n"
     ]
    }
   ],
   "source": [
    "from contextlib import suppress\n",
    "\n",
    "with suppress(RequestException):\n",
    "    use_requests()\n",
    "    \n",
    "logger.info('continue...')"
   ]
  },
  {
   "cell_type": "code",
   "execution_count": 34,
   "metadata": {
    "slideshow": {
     "slide_type": "slide"
    }
   },
   "outputs": [],
   "source": [
    "try:\n",
    "    pokemons()\n",
    "except:  # Gotta catch 'em all!\n",
    "    pass"
   ]
  },
  {
   "cell_type": "markdown",
   "metadata": {
    "slideshow": {
     "slide_type": "slide"
    }
   },
   "source": [
    "# @daneoshiga\n",
    "\n",
    "# Obrigado!\n",
    "\n",
    "\n",
    "\n",
    "## Perguntas?"
   ]
  },
  {
   "cell_type": "markdown",
   "metadata": {},
   "source": [
    "- https://bit.ly/olist-tech (newsletter)\n",
    "- https://t.me/olist_learning (@olist_learning)"
   ]
  },
  {
   "cell_type": "code",
   "execution_count": null,
   "metadata": {},
   "outputs": [],
   "source": []
  }
 ],
 "metadata": {
  "celltoolbar": "Slideshow",
  "kernelspec": {
   "display_name": "Python 3",
   "language": "python",
   "name": "python3"
  },
  "language_info": {
   "codemirror_mode": {
    "name": "ipython",
    "version": 3
   },
   "file_extension": ".py",
   "mimetype": "text/x-python",
   "name": "python",
   "nbconvert_exporter": "python",
   "pygments_lexer": "ipython3",
   "version": "3.5.2"
  }
 },
 "nbformat": 4,
 "nbformat_minor": 2
}
