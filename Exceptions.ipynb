{
 "cells": [
  {
   "cell_type": "code",
   "execution_count": 1,
   "metadata": {},
   "outputs": [
    {
     "ename": "SyntaxError",
     "evalue": "invalid syntax (<ipython-input-1-82e397173a8e>, line 1)",
     "output_type": "error",
     "traceback": [
      "\u001b[0;36m  File \u001b[0;32m\"<ipython-input-1-82e397173a8e>\"\u001b[0;36m, line \u001b[0;32m1\u001b[0m\n\u001b[0;31m    def foo(){\u001b[0m\n\u001b[0m             ^\u001b[0m\n\u001b[0;31mSyntaxError\u001b[0m\u001b[0;31m:\u001b[0m invalid syntax\n"
     ]
    }
   ],
   "source": [
    "def foo(){\n",
    "    return 'bar'\n",
    "}"
   ]
  },
  {
   "cell_type": "code",
   "execution_count": 2,
   "metadata": {
    "collapsed": true
   },
   "outputs": [],
   "source": [
    "try:\n",
    "    pokemons()\n",
    "except Exception:  # Gotta catch 'em all!\n",
    "    pass"
   ]
  },
  {
   "cell_type": "code",
   "execution_count": 3,
   "metadata": {
    "collapsed": true
   },
   "outputs": [],
   "source": [
    "my_data = [\n",
    "    {'key': 'value'},\n",
    "    {'another_key': 'other value'},\n",
    "]"
   ]
  },
  {
   "cell_type": "code",
   "execution_count": 23,
   "metadata": {
    "collapsed": true
   },
   "outputs": [],
   "source": [
    "def find_other_value_ifs(my_data):\n",
    "    if len(my_data) >= 2:\n",
    "        \n",
    "        if 'another_key' in my_data[1]:\n",
    "            return my_data[1]['another_key']\n",
    "        else:\n",
    "            print(\"Can't find another_key in my_data!\")\n",
    "    else:\n",
    "        print(\"Not enough elements in my_data!\")"
   ]
  },
  {
   "cell_type": "code",
   "execution_count": 24,
   "metadata": {},
   "outputs": [
    {
     "name": "stdout",
     "output_type": "stream",
     "text": [
      "Not enough elements in my_data!\n"
     ]
    }
   ],
   "source": [
    "find_other_value_ifs([{}])"
   ]
  },
  {
   "cell_type": "code",
   "execution_count": 25,
   "metadata": {},
   "outputs": [
    {
     "name": "stdout",
     "output_type": "stream",
     "text": [
      "Can't find another_key in my_data!\n"
     ]
    }
   ],
   "source": [
    "find_other_value_ifs([{}, {}])"
   ]
  },
  {
   "cell_type": "code",
   "execution_count": 26,
   "metadata": {},
   "outputs": [
    {
     "data": {
      "text/plain": [
       "'other value'"
      ]
     },
     "execution_count": 26,
     "metadata": {},
     "output_type": "execute_result"
    }
   ],
   "source": [
    "find_other_value_ifs(my_data)"
   ]
  },
  {
   "cell_type": "code",
   "execution_count": 29,
   "metadata": {
    "collapsed": true
   },
   "outputs": [],
   "source": [
    "def find_other_value_exceptions(my_data):\n",
    "    try:\n",
    "        return my_data[1]['another_key']\n",
    "\n",
    "    except IndexError:\n",
    "        print(\"Not enough elements in my data!\")\n",
    "\n",
    "    except KeyError:\n",
    "        print(\"Can't find another_key in my_data\")"
   ]
  },
  {
   "cell_type": "code",
   "execution_count": 31,
   "metadata": {},
   "outputs": [
    {
     "name": "stdout",
     "output_type": "stream",
     "text": [
      "Not enough elements in my data!\n"
     ]
    }
   ],
   "source": [
    "find_other_value_exceptions([{}])"
   ]
  },
  {
   "cell_type": "code",
   "execution_count": 32,
   "metadata": {},
   "outputs": [
    {
     "name": "stdout",
     "output_type": "stream",
     "text": [
      "Can't find another_key in my_data\n"
     ]
    }
   ],
   "source": [
    "find_other_value_exceptions([{}, {}])"
   ]
  },
  {
   "cell_type": "code",
   "execution_count": 40,
   "metadata": {},
   "outputs": [
    {
     "ename": "TypeError",
     "evalue": "list indices must be integers or slices, not str",
     "output_type": "error",
     "traceback": [
      "\u001b[0;31m---------------------------------------------------------------------------\u001b[0m",
      "\u001b[0;31mTypeError\u001b[0m                                 Traceback (most recent call last)",
      "\u001b[0;32m<ipython-input-40-c8076ff146c0>\u001b[0m in \u001b[0;36m<module>\u001b[0;34m()\u001b[0m\n\u001b[0;32m----> 1\u001b[0;31m \u001b[0mfind_other_value_exceptions\u001b[0m\u001b[0;34m(\u001b[0m\u001b[0;34m[\u001b[0m\u001b[0;34m{\u001b[0m\u001b[0;34m}\u001b[0m\u001b[0;34m,\u001b[0m \u001b[0;34m[\u001b[0m\u001b[0;34m]\u001b[0m\u001b[0;34m]\u001b[0m\u001b[0;34m)\u001b[0m\u001b[0;34m\u001b[0m\u001b[0m\n\u001b[0m",
      "\u001b[0;32m<ipython-input-29-4cc61054e898>\u001b[0m in \u001b[0;36mfind_other_value_exceptions\u001b[0;34m(my_data)\u001b[0m\n\u001b[1;32m      1\u001b[0m \u001b[0;32mdef\u001b[0m \u001b[0mfind_other_value_exceptions\u001b[0m\u001b[0;34m(\u001b[0m\u001b[0mmy_data\u001b[0m\u001b[0;34m)\u001b[0m\u001b[0;34m:\u001b[0m\u001b[0;34m\u001b[0m\u001b[0m\n\u001b[1;32m      2\u001b[0m     \u001b[0;32mtry\u001b[0m\u001b[0;34m:\u001b[0m\u001b[0;34m\u001b[0m\u001b[0m\n\u001b[0;32m----> 3\u001b[0;31m         \u001b[0;32mreturn\u001b[0m \u001b[0mmy_data\u001b[0m\u001b[0;34m[\u001b[0m\u001b[0;36m1\u001b[0m\u001b[0;34m]\u001b[0m\u001b[0;34m[\u001b[0m\u001b[0;34m'another_key'\u001b[0m\u001b[0;34m]\u001b[0m\u001b[0;34m\u001b[0m\u001b[0m\n\u001b[0m\u001b[1;32m      4\u001b[0m \u001b[0;34m\u001b[0m\u001b[0m\n\u001b[1;32m      5\u001b[0m     \u001b[0;32mexcept\u001b[0m \u001b[0mIndexError\u001b[0m\u001b[0;34m:\u001b[0m\u001b[0;34m\u001b[0m\u001b[0m\n",
      "\u001b[0;31mTypeError\u001b[0m: list indices must be integers or slices, not str"
     ]
    }
   ],
   "source": [
    "find_other_value_exceptions([{}, []])"
   ]
  },
  {
   "cell_type": "code",
   "execution_count": 1,
   "metadata": {
    "collapsed": true
   },
   "outputs": [],
   "source": [
    "def find_other_value_exceptions_with_finish_alert(my_data):\n",
    "    try:\n",
    "        print(my_data[1]['another_key'])\n",
    "        print(\"Finished\")\n",
    "\n",
    "    except IndexError:\n",
    "        print(\"Not enough elements in my data!\")\n",
    "        print(\"Finished\")  # again?\n",
    "\n",
    "    except KeyError:\n",
    "        print(\"Can't find another_key in my_data\")\n",
    "        print(\"Finished\")  # another time?"
   ]
  },
  {
   "cell_type": "code",
   "execution_count": 2,
   "metadata": {
    "collapsed": true
   },
   "outputs": [],
   "source": [
    "def find_other_value_exceptions_finally(my_data):\n",
    "    try:\n",
    "        print(my_data[1]['another_key'])\n",
    "\n",
    "    except IndexError:\n",
    "        print(\"Not enough elements in my data!\")\n",
    "\n",
    "    except KeyError:\n",
    "        print(\"Can't find another_key in my_data\")\n",
    "        \n",
    "    finally:\n",
    "        print(\"Finished\")  # just once!"
   ]
  },
  {
   "cell_type": "code",
   "execution_count": 3,
   "metadata": {
    "collapsed": true
   },
   "outputs": [],
   "source": [
    "def example_finally():\n",
    "    tell_you_started()\n",
    "    try:\n",
    "        function_extract()\n",
    "    except:\n",
    "        print(\"ops, something went wrong\")\n",
    "    finally:\n",
    "        tell_you_finished()"
   ]
  },
  {
   "cell_type": "code",
   "execution_count": 5,
   "metadata": {},
   "outputs": [
    {
     "ename": "IndentationError",
     "evalue": "expected an indented block (<ipython-input-5-b7a73e7a947f>, line 3)",
     "output_type": "error",
     "traceback": [
      "\u001b[0;36m  File \u001b[0;32m\"<ipython-input-5-b7a73e7a947f>\"\u001b[0;36m, line \u001b[0;32m3\u001b[0m\n\u001b[0;31m    class HTTPError(RequestException):\u001b[0m\n\u001b[0m        ^\u001b[0m\n\u001b[0;31mIndentationError\u001b[0m\u001b[0;31m:\u001b[0m expected an indented block\n"
     ]
    }
   ],
   "source": [
    "class RequestException(IOError):\n",
    "\n",
    "    class ConnectionError(RequestException):\n",
    "        class ProxyError(ConnectionError):\n",
    "        class SSLError(ConnectionError):\n",
    "            \n",
    "    class Timeout(RequestException):\n",
    "        class ConnectTimeout(ConnectionError, Timeout):\n",
    "        class ReadTimeout(Timeout):\n",
    "        \n",
    "class RequestsWarning(Warning):\n",
    "    class FileModeWarning(RequestsWarning, DeprecationWarning):\n",
    "    class RequestsDependencyWarning(RequestsWarning):    "
   ]
  },
  {
   "cell_type": "code",
   "execution_count": null,
   "metadata": {
    "collapsed": true
   },
   "outputs": [],
   "source": [
    "try:\n",
    "    use_requests()\n",
    "except Timeout:\n",
    "    print(\"catches ConnectionTimeout and ReadTimeout\")"
   ]
  },
  {
   "cell_type": "code",
   "execution_count": 10,
   "metadata": {},
   "outputs": [
    {
     "name": "stdout",
     "output_type": "stream",
     "text": [
      "mensagem\n",
      "['tb_frame', 'tb_lasti', 'tb_lineno', 'tb_next']\n"
     ]
    }
   ],
   "source": [
    "try:\n",
    "    raise IndexError('mensagem')\n",
    "except IndexError as exc:\n",
    "    print(exc)\n",
    "    print(dir(exc.__traceback__))"
   ]
  },
  {
   "cell_type": "code",
   "execution_count": null,
   "metadata": {
    "collapsed": true
   },
   "outputs": [],
   "source": []
  }
 ],
 "metadata": {
  "kernelspec": {
   "display_name": "Python 3",
   "language": "python",
   "name": "python3"
  }
 },
 "nbformat": 4,
 "nbformat_minor": 2
}
