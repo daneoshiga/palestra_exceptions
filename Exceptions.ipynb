{
 "cells": [
  {
   "cell_type": "markdown",
   "metadata": {
    "slideshow": {
     "slide_type": "slide"
    }
   },
   "source": [
    "# Exceptions\n",
    "## E porque não são só para erros"
   ]
  },
  {
   "cell_type": "markdown",
   "metadata": {
    "slideshow": {
     "slide_type": "fragment"
    }
   },
   "source": [
    "## Ok, SyntaxError é um erro "
   ]
  },
  {
   "cell_type": "code",
   "execution_count": 44,
   "metadata": {
    "slideshow": {
     "slide_type": "fragment"
    }
   },
   "outputs": [
    {
     "ename": "SyntaxError",
     "evalue": "invalid syntax (<ipython-input-44-82e397173a8e>, line 1)",
     "output_type": "error",
     "traceback": [
      "\u001b[0;36m  File \u001b[0;32m\"<ipython-input-44-82e397173a8e>\"\u001b[0;36m, line \u001b[0;32m1\u001b[0m\n\u001b[0;31m    def foo(){\u001b[0m\n\u001b[0m             ^\u001b[0m\n\u001b[0;31mSyntaxError\u001b[0m\u001b[0;31m:\u001b[0m invalid syntax\n"
     ]
    }
   ],
   "source": [
    "def foo(){\n",
    "    return 'bar'\n",
    "}"
   ]
  },
  {
   "cell_type": "code",
   "execution_count": 26,
   "metadata": {},
   "outputs": [],
   "source": [
    "pokemons = [\n",
    "    {'nome': 'Bulbassauro'},\n",
    "    {'nome': 'Ivyssauro'},\n",
    "]"
   ]
  },
  {
   "cell_type": "code",
   "execution_count": 27,
   "metadata": {},
   "outputs": [],
   "source": [
    "def nome_segundo_pokemon(pokemons):\n",
    "    if len(pokemons) >= 2:\n",
    "        \n",
    "        if 'nome' in pokemons[1]:\n",
    "            return pokemons[1]['nome']\n",
    "        else:\n",
    "            print(\"Não encontro o nome dos pokemons!\")\n",
    "    else:\n",
    "        print(\"Não há pokemons suficientes para procurar!\")"
   ]
  },
  {
   "cell_type": "code",
   "execution_count": 28,
   "metadata": {},
   "outputs": [
    {
     "name": "stdout",
     "output_type": "stream",
     "text": [
      "Não há pokemons suficientes para procurar!\n"
     ]
    }
   ],
   "source": [
    "pokedex_vazia = [{}]\n",
    "nome_segundo_pokemon(pokedex_vazia)"
   ]
  },
  {
   "cell_type": "code",
   "execution_count": 31,
   "metadata": {},
   "outputs": [
    {
     "name": "stdout",
     "output_type": "stream",
     "text": [
      "Não encontro o nome dos pokemons!\n"
     ]
    }
   ],
   "source": [
    "dados_errados = [\n",
    "    {'pokemon': 'Bulbassauro'},\n",
    "    {'pokemon': 'Ivyssauro'},\n",
    "]\n",
    "nome_segundo_pokemon(dados_errados)"
   ]
  },
  {
   "cell_type": "code",
   "execution_count": 32,
   "metadata": {},
   "outputs": [
    {
     "data": {
      "text/plain": [
       "'Ivyssauro'"
      ]
     },
     "execution_count": 32,
     "metadata": {},
     "output_type": "execute_result"
    }
   ],
   "source": [
    "nome_segundo_pokemon(pokemons)"
   ]
  },
  {
   "cell_type": "code",
   "execution_count": 34,
   "metadata": {},
   "outputs": [],
   "source": [
    "def nome_segundo_pokemon(pokemons):\n",
    "    try:\n",
    "        return pokemons[1]['nome']\n",
    "\n",
    "    except IndexError:\n",
    "        print('Não há pokemons suficientes para procurar!')\n",
    "\n",
    "    except KeyError:\n",
    "        print('Não encontro o nome dos pokemons!')"
   ]
  },
  {
   "cell_type": "code",
   "execution_count": 35,
   "metadata": {},
   "outputs": [
    {
     "name": "stdout",
     "output_type": "stream",
     "text": [
      "Não há pokemons suficientes para procurar!\n"
     ]
    }
   ],
   "source": [
    "pokedex_vazia = [{}]\n",
    "nome_segundo_pokemon(pokedex_vazia)"
   ]
  },
  {
   "cell_type": "code",
   "execution_count": 36,
   "metadata": {},
   "outputs": [
    {
     "name": "stdout",
     "output_type": "stream",
     "text": [
      "Não encontro o nome dos pokemons!\n"
     ]
    }
   ],
   "source": [
    "ainda_vazia = [{}, {}]  # melhorar\n",
    "nome_segundo_pokemon(ainda_vazia)"
   ]
  },
  {
   "cell_type": "code",
   "execution_count": 37,
   "metadata": {},
   "outputs": [],
   "source": [
    "def nome_segundo_pokemon(pokemons):\n",
    "    try:\n",
    "        print(pokemons[1]['nome'])\n",
    "        print('Vá capturar mais!')\n",
    "\n",
    "    except IndexError:\n",
    "        print('Não há pokemons suficientes para procurar!')\n",
    "        print('Vá capturar mais!')  # de novo?\n",
    "\n",
    "    except KeyError:\n",
    "        print('Não encontro o nome dos pokemons!')\n",
    "        print('Vá capturar mais!')  # outra vez?"
   ]
  },
  {
   "cell_type": "code",
   "execution_count": 42,
   "metadata": {},
   "outputs": [],
   "source": [
    "def nome_segundo_pokemon(pokemons):\n",
    "    try:\n",
    "        print(pokemons[1]['nome'])\n",
    "\n",
    "    except IndexError:\n",
    "        print('Não há pokemons suficientes para procurar!')\n",
    "\n",
    "    except KeyError:\n",
    "        print('Não encontro o nome dos pokemons!')\n",
    "        \n",
    "    finally:\n",
    "        print('Vá capturar mais!')  # só uma vez \\o/"
   ]
  },
  {
   "cell_type": "code",
   "execution_count": 43,
   "metadata": {},
   "outputs": [
    {
     "name": "stdout",
     "output_type": "stream",
     "text": [
      "Ivyssauro\n",
      "Vá capturar mais!\n"
     ]
    }
   ],
   "source": [
    "nome_segundo_pokemon(pokemons)"
   ]
  },
  {
   "cell_type": "code",
   "execution_count": 3,
   "metadata": {
    "collapsed": true
   },
   "outputs": [],
   "source": [
    "def example_finally():\n",
    "    tell_you_started()\n",
    "    try:\n",
    "        function_extract()\n",
    "    except:\n",
    "        print(\"ops, something went wrong\")\n",
    "    finally:\n",
    "        tell_you_finished()"
   ]
  },
  {
   "cell_type": "code",
   "execution_count": 5,
   "metadata": {},
   "outputs": [
    {
     "ename": "IndentationError",
     "evalue": "expected an indented block (<ipython-input-5-b7a73e7a947f>, line 3)",
     "output_type": "error",
     "traceback": [
      "\u001b[0;36m  File \u001b[0;32m\"<ipython-input-5-b7a73e7a947f>\"\u001b[0;36m, line \u001b[0;32m3\u001b[0m\n\u001b[0;31m    class HTTPError(RequestException):\u001b[0m\n\u001b[0m        ^\u001b[0m\n\u001b[0;31mIndentationError\u001b[0m\u001b[0;31m:\u001b[0m expected an indented block\n"
     ]
    }
   ],
   "source": [
    "class RequestException(IOError):\n",
    "\n",
    "    class ConnectionError(RequestException):\n",
    "        class ProxyError(ConnectionError):\n",
    "        class SSLError(ConnectionError):\n",
    "            \n",
    "    class Timeout(RequestException):\n",
    "        class ConnectTimeout(ConnectionError, Timeout):\n",
    "        class ReadTimeout(Timeout):\n",
    "        \n",
    "class RequestsWarning(Warning):\n",
    "    class FileModeWarning(RequestsWarning, DeprecationWarning):\n",
    "    class RequestsDependencyWarning(RequestsWarning):    "
   ]
  },
  {
   "cell_type": "code",
   "execution_count": null,
   "metadata": {
    "collapsed": true
   },
   "outputs": [],
   "source": [
    "try:\n",
    "    use_requests()\n",
    "except Timeout:\n",
    "    print(\"catches ConnectionTimeout and ReadTimeout\")"
   ]
  },
  {
   "cell_type": "code",
   "execution_count": 2,
   "metadata": {},
   "outputs": [
    {
     "name": "stdout",
     "output_type": "stream",
     "text": [
      "mensagem\n",
      "['tb_frame', 'tb_lasti', 'tb_lineno', 'tb_next']\n"
     ]
    }
   ],
   "source": [
    "# ?\n",
    "try:\n",
    "    raise IndexError('mensagem')\n",
    "except IndexError as exc:\n",
    "    print(exc)\n",
    "    print(dir(exc.__traceback__))"
   ]
  },
  {
   "cell_type": "code",
   "execution_count": null,
   "metadata": {
    "collapsed": true
   },
   "outputs": [],
   "source": []
  },
  {
   "cell_type": "code",
   "execution_count": 2,
   "metadata": {
    "collapsed": true
   },
   "outputs": [],
   "source": [
    "try:\n",
    "    pokemons()\n",
    "except Exception:  # Gotta catch 'em all!\n",
    "    pass"
   ]
  }
 ],
 "metadata": {
  "celltoolbar": "Slideshow",
  "kernelspec": {
   "display_name": "Python 3",
   "language": "python",
   "name": "python3"
  },
  "language_info": {
   "codemirror_mode": {
    "name": "ipython",
    "version": 3
   },
   "file_extension": ".py",
   "mimetype": "text/x-python",
   "name": "python",
   "nbconvert_exporter": "python",
   "pygments_lexer": "ipython3",
   "version": "3.5.2"
  }
 },
 "nbformat": 4,
 "nbformat_minor": 2
}
